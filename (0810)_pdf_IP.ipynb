{
  "nbformat": 4,
  "nbformat_minor": 0,
  "metadata": {
    "colab": {
      "provenance": [],
      "toc_visible": true,
      "authorship_tag": "ABX9TyNtx1K9Um3JgwR+qW0jkl7v",
      "include_colab_link": true
    },
    "kernelspec": {
      "name": "python3",
      "display_name": "Python 3"
    },
    "language_info": {
      "name": "python"
    }
  },
  "cells": [
    {
      "cell_type": "markdown",
      "metadata": {
        "id": "view-in-github",
        "colab_type": "text"
      },
      "source": [
        "<a href=\"https://colab.research.google.com/github/choinamyee/RPA/blob/main/(0810)_pdf_IP.ipynb\" target=\"_parent\"><img src=\"https://colab.research.google.com/assets/colab-badge.svg\" alt=\"Open In Colab\"/></a>"
      ]
    },
    {
      "cell_type": "code",
      "source": [
        "import re\n",
        "\n",
        "text = \"Here are some IPs: 192.168.1.1, 10.0.0.1 and this is not an IP: 256.300.1.1\"\n",
        "\n",
        "# IPv4 주소를 찾기 위한 정규표현식\n",
        "ip_pattern = r'\\b(?:[0-9]{1,3}\\.){3}[0-9]{1,3}\\b'\n",
        "\n",
        "ips = re.findall(ip_pattern, text)\n",
        "\n",
        "# 결과 출력\n",
        "for ip in ips:\n",
        "    parts = ip.split('.')\n",
        "    if all(0 <= int(part) < 256 for part in parts):\n",
        "        print(ip)"
      ],
      "metadata": {
        "colab": {
          "base_uri": "https://localhost:8080/"
        },
        "id": "AWwKWul4PBov",
        "outputId": "ab8aa5a0-4e91-4b49-faaa-dda11cd5ca06"
      },
      "execution_count": 2,
      "outputs": [
        {
          "output_type": "stream",
          "name": "stdout",
          "text": [
            "192.168.1.1\n",
            "10.0.0.1\n"
          ]
        }
      ]
    },
    {
      "cell_type": "code",
      "source": [],
      "metadata": {
        "id": "5gXectBtQAuA"
      },
      "execution_count": null,
      "outputs": []
    },
    {
      "cell_type": "code",
      "source": [],
      "metadata": {
        "id": "eRrbxRO4PLfH"
      },
      "execution_count": null,
      "outputs": []
    }
  ]
}