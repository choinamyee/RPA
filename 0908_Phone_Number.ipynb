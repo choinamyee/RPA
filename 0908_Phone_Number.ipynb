{
  "nbformat": 4,
  "nbformat_minor": 0,
  "metadata": {
    "colab": {
      "provenance": [],
      "include_colab_link": true
    },
    "kernelspec": {
      "name": "python3",
      "display_name": "Python 3"
    },
    "language_info": {
      "name": "python"
    }
  },
  "cells": [
    {
      "cell_type": "markdown",
      "metadata": {
        "id": "view-in-github",
        "colab_type": "text"
      },
      "source": [
        "<a href=\"https://colab.research.google.com/github/choinamyee/RPA/blob/main/0908_Phone_Number.ipynb\" target=\"_parent\"><img src=\"https://colab.research.google.com/assets/colab-badge.svg\" alt=\"Open In Colab\"/></a>"
      ]
    },
    {
      "cell_type": "code",
      "source": [
        "\n",
        "data = [\n",
        "    \"40716543298\",\n",
        "    \"40791345621\",\n",
        "    \"40735416854\",\n",
        "    \"40733652145\",\n",
        "    \"40799885412\",\n",
        "    \"40733154268\",\n",
        "    \"40712462257\",\n",
        "    \"40731254562\",\n",
        "    \"40741785214\",\n",
        "    \"40731653845\"\n",
        "]\n",
        "formatted_data = [f\"{item[:3]}-{item[3:7]}-{item[7:]}\" for item in data]\n",
        "        # 전화번호 붙어 있는거 슬라이싱\n",
        "for number in formatted_data:\n",
        "    print(number)"
      ],
      "metadata": {
        "colab": {
          "base_uri": "https://localhost:8080/"
        },
        "id": "E-D8rqEgJftd",
        "outputId": "178ed811-48b0-464f-ff71-4b717109fbe3"
      },
      "execution_count": 2,
      "outputs": [
        {
          "output_type": "stream",
          "name": "stdout",
          "text": [
            "407-1654-3298\n",
            "407-9134-5621\n",
            "407-3541-6854\n",
            "407-3365-2145\n",
            "407-9988-5412\n",
            "407-3315-4268\n",
            "407-1246-2257\n",
            "407-3125-4562\n",
            "407-4178-5214\n",
            "407-3165-3845\n"
          ]
        }
      ]
    },
    {
      "cell_type": "code",
      "execution_count": 10,
      "metadata": {
        "id": "4bSJGY_7Zphu"
      },
      "outputs": [],
      "source": [
        "import pandas as pd\n",
        "import re"
      ]
    },
    {
      "cell_type": "code",
      "source": [
        "df =pd.read_excel('challenge.xlsx') #, sheet_name=10)"
      ],
      "metadata": {
        "id": "jjOTJTjfaMHX"
      },
      "execution_count": 11,
      "outputs": []
    },
    {
      "cell_type": "code",
      "source": [
        "df"
      ],
      "metadata": {
        "colab": {
          "base_uri": "https://localhost:8080/",
          "height": 597
        },
        "id": "A0y_DtLaLTbt",
        "outputId": "34fe5e72-d4d3-43c4-8d4c-03f3eb697226"
      },
      "execution_count": 12,
      "outputs": [
        {
          "output_type": "execute_result",
          "data": {
            "text/plain": [
              "  First Name Last Name    Company Name   Role in Company  \\\n",
              "0       John      Smith   IT Solutions           Analyst   \n",
              "1       Jane     Dorsey       MediCare  Medical Engineer   \n",
              "2     Albert    Kipling     Waterfront        Accountant   \n",
              "3    Michael  Robertson       MediCare     IT Specialist   \n",
              "4       Doug    Derrick  Timepath Inc.           Analyst   \n",
              "5     Jessie    Marlowe  Aperture Inc.         Scientist   \n",
              "6       Stan       Hamm      Sugarwell           Advisor   \n",
              "7   Michelle     Norton  Aperture Inc.         Scientist   \n",
              "8      Stacy     Shelby        TechDev        HR Manager   \n",
              "9       Lara     Palmer  Timepath Inc.        Programmer   \n",
              "\n",
              "                  Address                     Email   Phone Number  \n",
              "0           98 North Road  jsmith@itsolutions.co.uk  407-1654-3298  \n",
              "1         11 Crown Street            jdorsey@mc.com  407-9134-5621  \n",
              "2         22 Guild Street    kipling@waterfront.com  407-3541-6854  \n",
              "3      17 Farburn Terrace         mrobertson@mc.com  407-3365-2145  \n",
              "4       99 Shire Oak Road   dderrick@timepath.co.uk  407-9988-5412  \n",
              "5      27 Cheshire Street      jmarlowe@aperture.us  407-3315-4268  \n",
              "6             10 Dam Road       shamm@sugarwell.org  407-1246-2257  \n",
              "7  13 White Rabbit Street       mnorton@aperture.us  407-3125-4562  \n",
              "8  19 Pineapple Boulevard       sshelby@techdev.com  407-4178-5214  \n",
              "9        87 Orange Street    lpalmer@timepath.co.uk  407-3165-3845  "
            ],
            "text/html": [
              "\n",
              "\n",
              "  <div id=\"df-e3f2487e-d0a3-4498-b742-eba6a5468f83\">\n",
              "    <div class=\"colab-df-container\">\n",
              "      <div>\n",
              "<style scoped>\n",
              "    .dataframe tbody tr th:only-of-type {\n",
              "        vertical-align: middle;\n",
              "    }\n",
              "\n",
              "    .dataframe tbody tr th {\n",
              "        vertical-align: top;\n",
              "    }\n",
              "\n",
              "    .dataframe thead th {\n",
              "        text-align: right;\n",
              "    }\n",
              "</style>\n",
              "<table border=\"1\" class=\"dataframe\">\n",
              "  <thead>\n",
              "    <tr style=\"text-align: right;\">\n",
              "      <th></th>\n",
              "      <th>First Name</th>\n",
              "      <th>Last Name</th>\n",
              "      <th>Company Name</th>\n",
              "      <th>Role in Company</th>\n",
              "      <th>Address</th>\n",
              "      <th>Email</th>\n",
              "      <th>Phone Number</th>\n",
              "    </tr>\n",
              "  </thead>\n",
              "  <tbody>\n",
              "    <tr>\n",
              "      <th>0</th>\n",
              "      <td>John</td>\n",
              "      <td>Smith</td>\n",
              "      <td>IT Solutions</td>\n",
              "      <td>Analyst</td>\n",
              "      <td>98 North Road</td>\n",
              "      <td>jsmith@itsolutions.co.uk</td>\n",
              "      <td>407-1654-3298</td>\n",
              "    </tr>\n",
              "    <tr>\n",
              "      <th>1</th>\n",
              "      <td>Jane</td>\n",
              "      <td>Dorsey</td>\n",
              "      <td>MediCare</td>\n",
              "      <td>Medical Engineer</td>\n",
              "      <td>11 Crown Street</td>\n",
              "      <td>jdorsey@mc.com</td>\n",
              "      <td>407-9134-5621</td>\n",
              "    </tr>\n",
              "    <tr>\n",
              "      <th>2</th>\n",
              "      <td>Albert</td>\n",
              "      <td>Kipling</td>\n",
              "      <td>Waterfront</td>\n",
              "      <td>Accountant</td>\n",
              "      <td>22 Guild Street</td>\n",
              "      <td>kipling@waterfront.com</td>\n",
              "      <td>407-3541-6854</td>\n",
              "    </tr>\n",
              "    <tr>\n",
              "      <th>3</th>\n",
              "      <td>Michael</td>\n",
              "      <td>Robertson</td>\n",
              "      <td>MediCare</td>\n",
              "      <td>IT Specialist</td>\n",
              "      <td>17 Farburn Terrace</td>\n",
              "      <td>mrobertson@mc.com</td>\n",
              "      <td>407-3365-2145</td>\n",
              "    </tr>\n",
              "    <tr>\n",
              "      <th>4</th>\n",
              "      <td>Doug</td>\n",
              "      <td>Derrick</td>\n",
              "      <td>Timepath Inc.</td>\n",
              "      <td>Analyst</td>\n",
              "      <td>99 Shire Oak Road</td>\n",
              "      <td>dderrick@timepath.co.uk</td>\n",
              "      <td>407-9988-5412</td>\n",
              "    </tr>\n",
              "    <tr>\n",
              "      <th>5</th>\n",
              "      <td>Jessie</td>\n",
              "      <td>Marlowe</td>\n",
              "      <td>Aperture Inc.</td>\n",
              "      <td>Scientist</td>\n",
              "      <td>27 Cheshire Street</td>\n",
              "      <td>jmarlowe@aperture.us</td>\n",
              "      <td>407-3315-4268</td>\n",
              "    </tr>\n",
              "    <tr>\n",
              "      <th>6</th>\n",
              "      <td>Stan</td>\n",
              "      <td>Hamm</td>\n",
              "      <td>Sugarwell</td>\n",
              "      <td>Advisor</td>\n",
              "      <td>10 Dam Road</td>\n",
              "      <td>shamm@sugarwell.org</td>\n",
              "      <td>407-1246-2257</td>\n",
              "    </tr>\n",
              "    <tr>\n",
              "      <th>7</th>\n",
              "      <td>Michelle</td>\n",
              "      <td>Norton</td>\n",
              "      <td>Aperture Inc.</td>\n",
              "      <td>Scientist</td>\n",
              "      <td>13 White Rabbit Street</td>\n",
              "      <td>mnorton@aperture.us</td>\n",
              "      <td>407-3125-4562</td>\n",
              "    </tr>\n",
              "    <tr>\n",
              "      <th>8</th>\n",
              "      <td>Stacy</td>\n",
              "      <td>Shelby</td>\n",
              "      <td>TechDev</td>\n",
              "      <td>HR Manager</td>\n",
              "      <td>19 Pineapple Boulevard</td>\n",
              "      <td>sshelby@techdev.com</td>\n",
              "      <td>407-4178-5214</td>\n",
              "    </tr>\n",
              "    <tr>\n",
              "      <th>9</th>\n",
              "      <td>Lara</td>\n",
              "      <td>Palmer</td>\n",
              "      <td>Timepath Inc.</td>\n",
              "      <td>Programmer</td>\n",
              "      <td>87 Orange Street</td>\n",
              "      <td>lpalmer@timepath.co.uk</td>\n",
              "      <td>407-3165-3845</td>\n",
              "    </tr>\n",
              "  </tbody>\n",
              "</table>\n",
              "</div>\n",
              "      <button class=\"colab-df-convert\" onclick=\"convertToInteractive('df-e3f2487e-d0a3-4498-b742-eba6a5468f83')\"\n",
              "              title=\"Convert this dataframe to an interactive table.\"\n",
              "              style=\"display:none;\">\n",
              "\n",
              "  <svg xmlns=\"http://www.w3.org/2000/svg\" height=\"24px\"viewBox=\"0 0 24 24\"\n",
              "       width=\"24px\">\n",
              "    <path d=\"M0 0h24v24H0V0z\" fill=\"none\"/>\n",
              "    <path d=\"M18.56 5.44l.94 2.06.94-2.06 2.06-.94-2.06-.94-.94-2.06-.94 2.06-2.06.94zm-11 1L8.5 8.5l.94-2.06 2.06-.94-2.06-.94L8.5 2.5l-.94 2.06-2.06.94zm10 10l.94 2.06.94-2.06 2.06-.94-2.06-.94-.94-2.06-.94 2.06-2.06.94z\"/><path d=\"M17.41 7.96l-1.37-1.37c-.4-.4-.92-.59-1.43-.59-.52 0-1.04.2-1.43.59L10.3 9.45l-7.72 7.72c-.78.78-.78 2.05 0 2.83L4 21.41c.39.39.9.59 1.41.59.51 0 1.02-.2 1.41-.59l7.78-7.78 2.81-2.81c.8-.78.8-2.07 0-2.86zM5.41 20L4 18.59l7.72-7.72 1.47 1.35L5.41 20z\"/>\n",
              "  </svg>\n",
              "      </button>\n",
              "\n",
              "\n",
              "\n",
              "    <div id=\"df-4e6a5655-ac23-4428-aaaf-b607bf45f2bb\">\n",
              "      <button class=\"colab-df-quickchart\" onclick=\"quickchart('df-4e6a5655-ac23-4428-aaaf-b607bf45f2bb')\"\n",
              "              title=\"Suggest charts.\"\n",
              "              style=\"display:none;\">\n",
              "\n",
              "<svg xmlns=\"http://www.w3.org/2000/svg\" height=\"24px\"viewBox=\"0 0 24 24\"\n",
              "     width=\"24px\">\n",
              "    <g>\n",
              "        <path d=\"M19 3H5c-1.1 0-2 .9-2 2v14c0 1.1.9 2 2 2h14c1.1 0 2-.9 2-2V5c0-1.1-.9-2-2-2zM9 17H7v-7h2v7zm4 0h-2V7h2v10zm4 0h-2v-4h2v4z\"/>\n",
              "    </g>\n",
              "</svg>\n",
              "      </button>\n",
              "    </div>\n",
              "\n",
              "<style>\n",
              "  .colab-df-quickchart {\n",
              "    background-color: #E8F0FE;\n",
              "    border: none;\n",
              "    border-radius: 50%;\n",
              "    cursor: pointer;\n",
              "    display: none;\n",
              "    fill: #1967D2;\n",
              "    height: 32px;\n",
              "    padding: 0 0 0 0;\n",
              "    width: 32px;\n",
              "  }\n",
              "\n",
              "  .colab-df-quickchart:hover {\n",
              "    background-color: #E2EBFA;\n",
              "    box-shadow: 0px 1px 2px rgba(60, 64, 67, 0.3), 0px 1px 3px 1px rgba(60, 64, 67, 0.15);\n",
              "    fill: #174EA6;\n",
              "  }\n",
              "\n",
              "  [theme=dark] .colab-df-quickchart {\n",
              "    background-color: #3B4455;\n",
              "    fill: #D2E3FC;\n",
              "  }\n",
              "\n",
              "  [theme=dark] .colab-df-quickchart:hover {\n",
              "    background-color: #434B5C;\n",
              "    box-shadow: 0px 1px 3px 1px rgba(0, 0, 0, 0.15);\n",
              "    filter: drop-shadow(0px 1px 2px rgba(0, 0, 0, 0.3));\n",
              "    fill: #FFFFFF;\n",
              "  }\n",
              "</style>\n",
              "\n",
              "    <script>\n",
              "      async function quickchart(key) {\n",
              "        const containerElement = document.querySelector('#' + key);\n",
              "        const charts = await google.colab.kernel.invokeFunction(\n",
              "            'suggestCharts', [key], {});\n",
              "      }\n",
              "    </script>\n",
              "\n",
              "      <script>\n",
              "\n",
              "function displayQuickchartButton(domScope) {\n",
              "  let quickchartButtonEl =\n",
              "    domScope.querySelector('#df-4e6a5655-ac23-4428-aaaf-b607bf45f2bb button.colab-df-quickchart');\n",
              "  quickchartButtonEl.style.display =\n",
              "    google.colab.kernel.accessAllowed ? 'block' : 'none';\n",
              "}\n",
              "\n",
              "        displayQuickchartButton(document);\n",
              "      </script>\n",
              "      <style>\n",
              "    .colab-df-container {\n",
              "      display:flex;\n",
              "      flex-wrap:wrap;\n",
              "      gap: 12px;\n",
              "    }\n",
              "\n",
              "    .colab-df-convert {\n",
              "      background-color: #E8F0FE;\n",
              "      border: none;\n",
              "      border-radius: 50%;\n",
              "      cursor: pointer;\n",
              "      display: none;\n",
              "      fill: #1967D2;\n",
              "      height: 32px;\n",
              "      padding: 0 0 0 0;\n",
              "      width: 32px;\n",
              "    }\n",
              "\n",
              "    .colab-df-convert:hover {\n",
              "      background-color: #E2EBFA;\n",
              "      box-shadow: 0px 1px 2px rgba(60, 64, 67, 0.3), 0px 1px 3px 1px rgba(60, 64, 67, 0.15);\n",
              "      fill: #174EA6;\n",
              "    }\n",
              "\n",
              "    [theme=dark] .colab-df-convert {\n",
              "      background-color: #3B4455;\n",
              "      fill: #D2E3FC;\n",
              "    }\n",
              "\n",
              "    [theme=dark] .colab-df-convert:hover {\n",
              "      background-color: #434B5C;\n",
              "      box-shadow: 0px 1px 3px 1px rgba(0, 0, 0, 0.15);\n",
              "      filter: drop-shadow(0px 1px 2px rgba(0, 0, 0, 0.3));\n",
              "      fill: #FFFFFF;\n",
              "    }\n",
              "  </style>\n",
              "\n",
              "      <script>\n",
              "        const buttonEl =\n",
              "          document.querySelector('#df-e3f2487e-d0a3-4498-b742-eba6a5468f83 button.colab-df-convert');\n",
              "        buttonEl.style.display =\n",
              "          google.colab.kernel.accessAllowed ? 'block' : 'none';\n",
              "\n",
              "        async function convertToInteractive(key) {\n",
              "          const element = document.querySelector('#df-e3f2487e-d0a3-4498-b742-eba6a5468f83');\n",
              "          const dataTable =\n",
              "            await google.colab.kernel.invokeFunction('convertToInteractive',\n",
              "                                                     [key], {});\n",
              "          if (!dataTable) return;\n",
              "\n",
              "          const docLinkHtml = 'Like what you see? Visit the ' +\n",
              "            '<a target=\"_blank\" href=https://colab.research.google.com/notebooks/data_table.ipynb>data table notebook</a>'\n",
              "            + ' to learn more about interactive tables.';\n",
              "          element.innerHTML = '';\n",
              "          dataTable['output_type'] = 'display_data';\n",
              "          await google.colab.output.renderOutput(dataTable, element);\n",
              "          const docLink = document.createElement('div');\n",
              "          docLink.innerHTML = docLinkHtml;\n",
              "          element.appendChild(docLink);\n",
              "        }\n",
              "      </script>\n",
              "    </div>\n",
              "  </div>\n"
            ]
          },
          "metadata": {},
          "execution_count": 12
        }
      ]
    },
    {
      "cell_type": "code",
      "source": [
        "#p = /^[0-9]{3}[-]+[0-9]{4}[-]+[0-9]{4}$/"
      ],
      "metadata": {
        "id": "XGCJLbUeawAH",
        "colab": {
          "base_uri": "https://localhost:8080/",
          "height": 148
        },
        "outputId": "738cea7e-02e3-4107-9739-279373542c52"
      },
      "execution_count": 3,
      "outputs": [
        {
          "output_type": "error",
          "ename": "SyntaxError",
          "evalue": "ignored",
          "traceback": [
            "\u001b[0;36m  File \u001b[0;32m\"<ipython-input-3-d7400b070ff9>\"\u001b[0;36m, line \u001b[0;32m1\u001b[0m\n\u001b[0;31m    p = /^[0-9]{3}[-]+[0-9]{4}[-]+[0-9]{4}$/\u001b[0m\n\u001b[0m        ^\u001b[0m\n\u001b[0;31mSyntaxError\u001b[0m\u001b[0;31m:\u001b[0m invalid syntax\n"
          ]
        }
      ]
    },
    {
      "cell_type": "markdown",
      "source": [
        "  정규 필터식\t의미\n",
        "\n",
        "\n",
        "\n",
        "  \\w\t한 글자\n",
        "\n",
        "\n",
        "  \\w+\t한 단어\n",
        "\n",
        "  \\d\t정수 1자리\n",
        "\n",
        "  \\d+\t정수 전체\n",
        "\n",
        "  \\s\t공백 한칸\n",
        "\n",
        "  \\s+\t공백 전체\n",
        "\n",
        "  \\특수문자\t특수문자 구분"
      ],
      "metadata": {
        "id": "IUgpqquma4iG"
      }
    },
    {
      "cell_type": "code",
      "source": [
        "p = '\\d{3}s?-?\\d{4}\\s?-?\\d{4}'"
      ],
      "metadata": {
        "id": "ZyH3WhMTbaSO"
      },
      "execution_count": 4,
      "outputs": []
    },
    {
      "cell_type": "code",
      "source": [
        "phone_num = []"
      ],
      "metadata": {
        "id": "xWic40SwgYSK"
      },
      "execution_count": 13,
      "outputs": []
    },
    {
      "cell_type": "code",
      "source": [
        "for index, row in df.iterrows():\n",
        "  list_index = df.iloc[index].tolist()\n",
        "  for i in list_index:\n",
        "    # print(i, type(i))\n",
        "    if type(i) is str:\n",
        "      # print('Yes: {0}'.format(i))\n",
        "      m = re.match(pattern=p, string=i)\n",
        "      if m:\n",
        "        print(\"나 전화번호야!!!: {0}\\n\".format(i))\n",
        "        phone_num.append(i)"
      ],
      "metadata": {
        "id": "3CfD7FMdb_Ki",
        "colab": {
          "base_uri": "https://localhost:8080/"
        },
        "outputId": "964bef23-3b5c-41b2-e55f-fa219c4357e4"
      },
      "execution_count": 14,
      "outputs": [
        {
          "output_type": "stream",
          "name": "stdout",
          "text": [
            "나 전화번호야!!!: 407-1654-3298\n",
            "\n",
            "나 전화번호야!!!: 407-9134-5621\n",
            "\n",
            "나 전화번호야!!!: 407-3541-6854\n",
            "\n",
            "나 전화번호야!!!: 407-3365-2145\n",
            "\n",
            "나 전화번호야!!!: 407-9988-5412\n",
            "\n",
            "나 전화번호야!!!: 407-3315-4268\n",
            "\n",
            "나 전화번호야!!!: 407-1246-2257\n",
            "\n",
            "나 전화번호야!!!: 407-3125-4562\n",
            "\n",
            "나 전화번호야!!!: 407-4178-5214\n",
            "\n",
            "나 전화번호야!!!: 407-3165-3845\n",
            "\n"
          ]
        }
      ]
    },
    {
      "cell_type": "code",
      "source": [
        "phone_num"
      ],
      "metadata": {
        "id": "vrElmSMYgiLB",
        "colab": {
          "base_uri": "https://localhost:8080/"
        },
        "outputId": "4fe015c0-c510-4b64-af88-b76efe24ef9e"
      },
      "execution_count": 15,
      "outputs": [
        {
          "output_type": "execute_result",
          "data": {
            "text/plain": [
              "['407-1654-3298',\n",
              " '407-9134-5621',\n",
              " '407-3541-6854',\n",
              " '407-3365-2145',\n",
              " '407-9988-5412',\n",
              " '407-3315-4268',\n",
              " '407-1246-2257',\n",
              " '407-3125-4562',\n",
              " '407-4178-5214',\n",
              " '407-3165-3845']"
            ]
          },
          "metadata": {},
          "execution_count": 15
        }
      ]
    },
    {
      "cell_type": "code",
      "source": [
        "set_num = set(phone_num)"
      ],
      "metadata": {
        "id": "g9OO1my-gypf"
      },
      "execution_count": 16,
      "outputs": []
    },
    {
      "cell_type": "code",
      "source": [
        "set_num"
      ],
      "metadata": {
        "id": "vSgAXwKLhOGO",
        "colab": {
          "base_uri": "https://localhost:8080/"
        },
        "outputId": "4a998030-b08a-4b43-b460-c3971e6a1f30"
      },
      "execution_count": 17,
      "outputs": [
        {
          "output_type": "execute_result",
          "data": {
            "text/plain": [
              "{'407-1246-2257',\n",
              " '407-1654-3298',\n",
              " '407-3125-4562',\n",
              " '407-3165-3845',\n",
              " '407-3315-4268',\n",
              " '407-3365-2145',\n",
              " '407-3541-6854',\n",
              " '407-4178-5214',\n",
              " '407-9134-5621',\n",
              " '407-9988-5412'}"
            ]
          },
          "metadata": {},
          "execution_count": 17
        }
      ]
    },
    {
      "cell_type": "code",
      "source": [
        "phone_num = list(set_num)"
      ],
      "metadata": {
        "id": "bHnjjxuzhbD_"
      },
      "execution_count": 18,
      "outputs": []
    },
    {
      "cell_type": "code",
      "source": [
        "phone_num"
      ],
      "metadata": {
        "id": "cLXf9Wrzhg82",
        "colab": {
          "base_uri": "https://localhost:8080/"
        },
        "outputId": "048dd37b-5daa-4f74-a3fd-b8c00bd10c2a"
      },
      "execution_count": 19,
      "outputs": [
        {
          "output_type": "execute_result",
          "data": {
            "text/plain": [
              "['407-3165-3845',\n",
              " '407-3125-4562',\n",
              " '407-9988-5412',\n",
              " '407-3541-6854',\n",
              " '407-4178-5214',\n",
              " '407-3315-4268',\n",
              " '407-9134-5621',\n",
              " '407-1654-3298',\n",
              " '407-3365-2145',\n",
              " '407-1246-2257']"
            ]
          },
          "metadata": {},
          "execution_count": 19
        }
      ]
    },
    {
      "cell_type": "code",
      "source": [],
      "metadata": {
        "id": "EUX0WOWghkAE"
      },
      "execution_count": null,
      "outputs": []
    },
    {
      "cell_type": "code",
      "source": [],
      "metadata": {
        "id": "7m9caNKQdPLq"
      },
      "execution_count": null,
      "outputs": []
    }
  ]
}